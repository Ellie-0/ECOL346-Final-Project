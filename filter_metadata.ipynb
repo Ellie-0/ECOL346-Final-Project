{
 "cells": [
  {
   "cell_type": "raw",
   "metadata": {},
   "source": [
    "Author: Maya Bose\n",
    "This script pulls in additional depth data (to attempt to fill in gaps where fishbase didn't have info available) from one of our original fish species sources. Then, the script classifies each fish by their depth zone (Epipelagic, Mesopelagic, Bathypelagic, Abyssopelagic, Hadopelagic)"
   ]
  },
  {
   "cell_type": "code",
   "execution_count": 2,
   "metadata": {},
   "outputs": [],
   "source": [
    "suppressMessages(library(tidyverse))"
   ]
  },
  {
   "cell_type": "code",
   "execution_count": null,
   "metadata": {},
   "outputs": [],
   "source": [
    "df <- suppressMessages(read_csv(\"/mnt/c/Users/mayal/All/School/Spring2021/ECOL346/Project/Code/1_scrape_data/fish_with_metadata.csv\"))\n",
    "paste(\"Number of fish:\", nrow(df))\n",
    "\n",
    "\n",
    "eco_subset <- df[ , c(\"ecosystem\")]\n",
    "eco <- df[complete.cases(eco_subset), ]\n",
    "freshwater <- subset(eco, ecosystem == \"Freshwater\") %>% mutate(zone = \"Epipelagic\", classification = \"Shallow Water\")\n",
    "freshwater <- rename(freshwater,  `depth` = `max depth`)\n",
    "saltwater <- subset(eco, ecosystem == \"Saltwater\")\n",
    "paste(\"Number of freshwater fish:\", nrow(freshwater))\n",
    "paste(\"Number of saltwater fish:\", nrow(saltwater))\n",
    "\n",
    "# Add supplemental depth info \n",
    "depth_supplement <- suppressMessages(read_csv(\"/mnt/c/Users/mayal/All/School/Spring2021/ECOL346/Project/Code/1_scrape_data/data_collection/Musilova_et_al_2019.csv\")) %>%\n",
    "                        select(species, `Depth (m)`) \n",
    "depth_supplement$`Depth (m)` <- as.double(depth_supplement$`Depth (m)`)\n",
    "saltwater <- left_join(saltwater, depth_supplement)\n",
    "saltwater <- mutate(saltwater, depth = coalesce(`max depth`, `Depth (m)`)) %>% select(- c(`max depth`, `Depth (m)`))\n",
    "depth_subset <- saltwater[ , c(\"depth\")]\n",
    "depth <- saltwater[complete.cases(depth_subset), ]\n",
    "paste(\"Number of saltwater fish with depth info:\", nrow(depth))\n",
    "depth <- mutate(depth, zone = ifelse(`depth` <= 200, \"Epipelagic\", \n",
    "                                     ifelse(`depth` <= 1000, \"Mesopelagic\", \n",
    "                                            ifelse(`depth` <= 4000, \"Bathypelagic\", \n",
    "                                                   ifelse(`depth` <= 6000, \"Abyssopelagic\",\"Hadopelagic\")))))\n",
    "\n",
    "\n",
    "depth <- mutate(depth, classification = ifelse(zone == \"Epipelagic\", \"Shallow Water\",\n",
    "                                              ifelse(zone == \"Bathypelagic\" | zone == \"Abyssopelagic\", \"Deep Water\", \"Mid-Depth\")))\n",
    "\n",
    "saltwater <- subset(depth, zone == \"Bathypelagic\" | zone == \"Abyssopelagic\" | zone == \"Epipelagic\")\n",
    "for (uniq_zone in unique(depth$zone)){\n",
    "    print(paste(\"Number of fish in the \", uniq_zone, \" zone:\", nrow(subset(depth, zone == uniq_zone))))\n",
    "}\n",
    "freshwater <- \n",
    "shallow <- subset(depth, zone == \"Epipelagic\")\n",
    "deep <- subset(depth, zone == \"Bathypelagic\" | zone == \"Abyssopelagic\")\n",
    "all_fish <- rbind(saltwater, freshwater)"
   ]
  },
  {
   "cell_type": "code",
   "execution_count": null,
   "metadata": {},
   "outputs": [],
   "source": [
    "write_csv(all_fish, \"/mnt/c/Users/mayal/All/School/Spring2021/ECOL346/Project/Code/1_scrape_data/fish_organized/all_fish_data.csv\")\n",
    "write_csv(saltwater, \"/mnt/c/Users/mayal/All/School/Spring2021/ECOL346/Project/Code/1_scrape_data/fish_organized/saltwater_pot.csv\")\n",
    "write_csv(freshwater, \"/mnt/c/Users/mayal/All/School/Spring2021/ECOL346/Project/Code/1_scrape_data/fish_organized/freshwater_pot.csv\")\n",
    "write_csv(shallow, \"/mnt/c/Users/mayal/All/School/Spring2021/ECOL346/Project/Code/1_scrape_data/fish_organized/shallow_pot.csv\")\n",
    "write_csv(deep, \"/mnt/c/Users/mayal/All/School/Spring2021/ECOL346/Project/Code/1_scrape_data/fish_organized/deep_pot.csv\")"
   ]
  }
 ],
 "metadata": {
  "kernelspec": {
   "display_name": "R",
   "language": "R",
   "name": "ir"
  },
  "language_info": {
   "codemirror_mode": "r",
   "file_extension": ".r",
   "mimetype": "text/x-r-source",
   "name": "R",
   "pygments_lexer": "r",
   "version": "3.4.4"
  }
 },
 "nbformat": 4,
 "nbformat_minor": 4
}
