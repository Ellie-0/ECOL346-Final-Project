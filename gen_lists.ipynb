{
 "cells": [
  {
   "cell_type": "markdown",
   "metadata": {},
   "source": [
    "Author: Maya Bose\n",
    "\n",
    "Purpose: This script was used to randomly prune lists of species, while trying to maintain equivalent number of species from each of two environments"
   ]
  },
  {
   "cell_type": "code",
   "execution_count": 68,
   "metadata": {},
   "outputs": [],
   "source": [
    "import pandas as p\n",
    "import os\n",
    "import sys\n",
    "import random"
   ]
  },
  {
   "cell_type": "code",
   "execution_count": 93,
   "metadata": {},
   "outputs": [],
   "source": [
    "\n",
    "def make_list(filename, fish_db, comparison, out_filename):\n",
    "    random.seed(346)\n",
    "    start = False\n",
    "    fish_db = p.read_csv(fish_db)\n",
    "    species = fish_db[\"species\"].str.split(\" \", n = 1, expand = True)\n",
    "    fish_db[\"species\"] = species[0].str[0] + \".\" + species[1]\n",
    "\n",
    "    my_species = {}\n",
    "    with open(filename, \"r\") as file:\n",
    "        for line in file: \n",
    "            if line.strip() == \";\":\n",
    "                start = False\n",
    "            if start:\n",
    "                species = line.strip().split()[1].strip(\",\")\n",
    "                if comparison == \"Depth\":\n",
    "#                     print(fish_db.loc[fish_db[\"species\"] == species][\"classification\"])\n",
    "#                     print(species)\n",
    "                    classification = fish_db.loc[fish_db[\"species\"] == species][\"classification\"].values[0]\n",
    "                    if classification not in my_species:\n",
    "                        my_species[classification] = list()\n",
    "                    my_species[classification].append(species)\n",
    "                elif comparison == \"Ecosystem\":\n",
    "                    try:\n",
    "                        ecosystem = fish_db.loc[fish_db[\"species\"] == species][\"ecosystem\"].values[0]\n",
    "                    except: \n",
    "                        continue\n",
    "                    if ecosystem not in my_species:\n",
    "                        my_species[ecosystem] = list()\n",
    "                    my_species[ecosystem].append(species)\n",
    "                \n",
    "            if line.strip() == \"Translate\":\n",
    "                start = True\n",
    "    \n",
    "    small = list_len_min(my_species)\n",
    "    if len(my_species[small]) <= 8:\n",
    "        num_one = len(my_species[small])\n",
    "        num_two = 16 - len(my_species[small])\n",
    "    else:\n",
    "        num_one = 8\n",
    "        num_two = 8\n",
    "    \n",
    "    for key in my_species.keys():\n",
    "        if key == small:\n",
    "            first_fish = random.sample(my_species[key], num_one)\n",
    "        else: \n",
    "            second_fish = random.sample(my_species[key], num_two)\n",
    "    with open(out_filename, \"w\") as outfile:\n",
    "        for fish in first_fish:\n",
    "            outfile.write(fish + \"\\n\")\n",
    "        for fish in second_fish:\n",
    "            outfile.write(fish + \"\\n\")\n",
    "                    \n",
    "def list_len_min(my_dic):\n",
    "    big = sys.maxsize\n",
    "    result = 0\n",
    "    for key in my_dic.keys():\n",
    "        if len(my_dic[key]) < big:\n",
    "            big = len(my_dic[key])\n",
    "            result = key\n",
    "    return result\n",
    "    "
   ]
  },
  {
   "cell_type": "code",
   "execution_count": 94,
   "metadata": {},
   "outputs": [],
   "source": [
    "make_list(\"/mnt/c/Users/mayal/All/School/Spring2021/ECOL346/Project/Code/6_make_species_lists_for_LRT/opsin_rooted_tree.tre\", \n",
    "          \"/mnt/c/Users/mayal/All/School/Spring2021/ECOL346/Project/Code/1_scrape_data/fish_organized/all_fish_data.csv\", \"Depth\",\n",
    "         \"/mnt/c/Users/mayal/All/School/Spring2021/ECOL346/Project/Code/6_make_species_lists_for_LRT/opsin_fish.txt\")\n",
    "make_list(\"/mnt/c/Users/mayal/All/School/Spring2021/ECOL346/Project/Code/6_make_species_lists_for_LRT/crystallin_rooted_tree.tre\", \n",
    "          \"/mnt/c/Users/mayal/All/School/Spring2021/ECOL346/Project/Code/1_scrape_data/fish_organized/all_fish_data.csv\", \"Depth\",\n",
    "         \"/mnt/c/Users/mayal/All/School/Spring2021/ECOL346/Project/Code/6_make_species_lists_for_LRT/crystallin_fish.txt\")\n",
    "make_list(\"/mnt/c/Users/mayal/All/School/Spring2021/ECOL346/Project/Code/6_make_species_lists_for_LRT/nakATPase_rooted.tre\", \n",
    "          \"/mnt/c/Users/mayal/All/School/Spring2021/ECOL346/Project/Code/1_scrape_data/fish_organized/all_fish_data.csv\", \"Ecosystem\",\n",
    "         \"/mnt/c/Users/mayal/All/School/Spring2021/ECOL346/Project/Code/6_make_species_lists_for_LRT/nakATPase_fish.txt\")\n",
    "make_list(\"/mnt/c/Users/mayal/All/School/Spring2021/ECOL346/Project/Code/6_make_species_lists_for_LRT/HpATPase_rooted.tre\", \n",
    "          \"/mnt/c/Users/mayal/All/School/Spring2021/ECOL346/Project/Code/1_scrape_data/fish_organized/all_fish_data.csv\", \"Ecosystem\",\n",
    "         \"/mnt/c/Users/mayal/All/School/Spring2021/ECOL346/Project/Code/6_make_species_lists_for_LRT/HpATPase_fish.txt\")\n",
    "make_list(\"/mnt/c/Users/mayal/All/School/Spring2021/ECOL346/Project/Code/6_make_species_lists_for_LRT/naHexchange_rooted.tre\", \n",
    "          \"/mnt/c/Users/mayal/All/School/Spring2021/ECOL346/Project/Code/1_scrape_data/fish_organized/all_fish_data.csv\", \"Ecosystem\",\n",
    "         \"/mnt/c/Users/mayal/All/School/Spring2021/ECOL346/Project/Code/6_make_species_lists_for_LRT/naHexchange_fish.txt\")"
   ]
  }
 ],
 "metadata": {
  "kernelspec": {
   "display_name": "Python 3",
   "language": "python",
   "name": "python3"
  },
  "language_info": {
   "codemirror_mode": {
    "name": "ipython",
    "version": 3
   },
   "file_extension": ".py",
   "mimetype": "text/x-python",
   "name": "python",
   "nbconvert_exporter": "python",
   "pygments_lexer": "ipython3",
   "version": "3.6.9"
  }
 },
 "nbformat": 4,
 "nbformat_minor": 4
}
