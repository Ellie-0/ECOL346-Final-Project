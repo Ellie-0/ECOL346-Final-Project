{
 "cells": [
  {
   "cell_type": "markdown",
   "metadata": {},
   "source": [
    "Author: Maya Bose\n",
    "\n",
    "Purpose: This program combines our lists of species into one big list with no duplicates"
   ]
  },
  {
   "cell_type": "code",
   "execution_count": 2,
   "metadata": {},
   "outputs": [],
   "source": [
    "suppressMessages(library(tidyverse))"
   ]
  },
  {
   "cell_type": "markdown",
   "metadata": {},
   "source": [
    "# Load and organize files"
   ]
  },
  {
   "cell_type": "code",
   "execution_count": 5,
   "metadata": {},
   "outputs": [
    {
     "data": {
      "text/html": [
       "<table>\n",
       "<caption>A tibble: 6 × 1</caption>\n",
       "<thead>\n",
       "\t<tr><th scope=col>species</th></tr>\n",
       "\t<tr><th scope=col>&lt;chr&gt;</th></tr>\n",
       "</thead>\n",
       "<tbody>\n",
       "\t<tr><td>Acanthochaenus luetkenii   </td></tr>\n",
       "\t<tr><td>Acanthochromis polyacanthus</td></tr>\n",
       "\t<tr><td>Acipenser ruthenus         </td></tr>\n",
       "\t<tr><td>Ageneiosus marmoratus      </td></tr>\n",
       "\t<tr><td>Amphilophus citrinellus    </td></tr>\n",
       "\t<tr><td>Amphiprion ocellaris       </td></tr>\n",
       "</tbody>\n",
       "</table>\n"
      ],
      "text/latex": [
       "A tibble: 6 × 1\n",
       "\\begin{tabular}{r|l}\n",
       " species\\\\\n",
       " <chr>\\\\\n",
       "\\hline\n",
       "\t Acanthochaenus luetkenii   \\\\\n",
       "\t Acanthochromis polyacanthus\\\\\n",
       "\t Acipenser ruthenus         \\\\\n",
       "\t Ageneiosus marmoratus      \\\\\n",
       "\t Amphilophus citrinellus    \\\\\n",
       "\t Amphiprion ocellaris       \\\\\n",
       "\\end{tabular}\n"
      ],
      "text/markdown": [
       "\n",
       "A tibble: 6 × 1\n",
       "\n",
       "| species &lt;chr&gt; |\n",
       "|---|\n",
       "| Acanthochaenus luetkenii    |\n",
       "| Acanthochromis polyacanthus |\n",
       "| Acipenser ruthenus          |\n",
       "| Ageneiosus marmoratus       |\n",
       "| Amphilophus citrinellus     |\n",
       "| Amphiprion ocellaris        |\n",
       "\n"
      ],
      "text/plain": [
       "  species                    \n",
       "1 Acanthochaenus luetkenii   \n",
       "2 Acanthochromis polyacanthus\n",
       "3 Acipenser ruthenus         \n",
       "4 Ageneiosus marmoratus      \n",
       "5 Amphilophus citrinellus    \n",
       "6 Amphiprion ocellaris       "
      ]
     },
     "metadata": {},
     "output_type": "display_data"
    }
   ],
   "source": [
    "file.list <- list.files(path = \"/mnt/c/Users/mayal/All/School/Spring2021/ECOL346/Project/Code/1_scrape_data/data_collection\", pattern = \"*csv\", full.names = TRUE)\n",
    "db_all <- suppressMessages(lapply(file.list, read_csv))\n",
    "species_all <- lapply(db_all, function(x){select(x, species)})\n",
    "df <- bind_rows(species_all)\n",
    "head(df)"
   ]
  },
  {
   "cell_type": "markdown",
   "metadata": {},
   "source": [
    "# Check number of species, remove duplicates"
   ]
  },
  {
   "cell_type": "code",
   "execution_count": 6,
   "metadata": {},
   "outputs": [
    {
     "data": {
      "text/html": [
       "'Number of species located: 1421'"
      ],
      "text/latex": [
       "'Number of species located: 1421'"
      ],
      "text/markdown": [
       "'Number of species located: 1421'"
      ],
      "text/plain": [
       "[1] \"Number of species located: 1421\""
      ]
     },
     "metadata": {},
     "output_type": "display_data"
    },
    {
     "data": {
      "text/html": [
       "'Number of species after removing NA: 1031'"
      ],
      "text/latex": [
       "'Number of species after removing NA: 1031'"
      ],
      "text/markdown": [
       "'Number of species after removing NA: 1031'"
      ],
      "text/plain": [
       "[1] \"Number of species after removing NA: 1031\""
      ]
     },
     "metadata": {},
     "output_type": "display_data"
    },
    {
     "data": {
      "text/html": [
       "'Number of species after removing duplicates: 490'"
      ],
      "text/latex": [
       "'Number of species after removing duplicates: 490'"
      ],
      "text/markdown": [
       "'Number of species after removing duplicates: 490'"
      ],
      "text/plain": [
       "[1] \"Number of species after removing duplicates: 490\""
      ]
     },
     "metadata": {},
     "output_type": "display_data"
    }
   ],
   "source": [
    "paste(\"Number of species located: \", nrow(df), sep=\"\")\n",
    "df <- na.omit(df)\n",
    "paste(\"Number of species after removing NA: \", nrow(df), sep=\"\")\n",
    "df <- distinct(df)\n",
    "paste(\"Number of species after removing duplicates: \", nrow(df), sep=\"\")"
   ]
  },
  {
   "cell_type": "code",
   "execution_count": null,
   "metadata": {},
   "outputs": [],
   "source": []
  },
  {
   "cell_type": "markdown",
   "metadata": {},
   "source": [
    "# Output combined database"
   ]
  },
  {
   "cell_type": "code",
   "execution_count": 7,
   "metadata": {},
   "outputs": [],
   "source": [
    "write_csv(df, \"/mnt/c/Users/mayal/All/School/Spring2021/ECOL346/Project/Code/combined_fish_df.csv\")"
   ]
  }
 ],
 "metadata": {
  "kernelspec": {
   "display_name": "R",
   "language": "R",
   "name": "ir"
  },
  "language_info": {
   "codemirror_mode": "r",
   "file_extension": ".r",
   "mimetype": "text/x-r-source",
   "name": "R",
   "pygments_lexer": "r",
   "version": "3.4.4"
  }
 },
 "nbformat": 4,
 "nbformat_minor": 4
}
