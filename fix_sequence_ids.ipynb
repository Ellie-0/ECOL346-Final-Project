{
 "cells": [
  {
   "cell_type": "code",
   "execution_count": null,
   "metadata": {},
   "outputs": [],
   "source": [
    "Author: Maya Bose"
   ]
  },
  {
   "cell_type": "code",
   "execution_count": 7,
   "metadata": {},
   "outputs": [],
   "source": [
    "import re"
   ]
  },
  {
   "cell_type": "code",
   "execution_count": 8,
   "metadata": {},
   "outputs": [],
   "source": [
    "\"\"\"\n",
    "This function takes a fasta file (where each sequence identifier contains the name of \n",
    "the species the sequence is from in brackets at the end) and merges together all \n",
    "of the sequences from the same species into a single sequence (with species as \n",
    "sequence identifier). A list of the species with sequences available is returned.\n",
    "\"\"\"\n",
    "def fix_ids(filename, out_filename, species_filename):\n",
    "    # create a regex to ID sequeunces that have a species listed\n",
    "    regexp = re.compile(r'\\[*\\]$')\n",
    "    seqs = {}\n",
    "    ids = set()\n",
    "    with open(filename, \"r\") as in_file:\n",
    "        write = False\n",
    "        for line in in_file:\n",
    "            # if the line is a sequence ID, identify the name of the \n",
    "            # species from the ID line\n",
    "            if line.startswith(\">\"):\n",
    "                seq_id = line.replace(\" \", \"_\")\n",
    "                write = regexp.search(line) and seq_id not in ids\n",
    "                ids.add(seq_id)\n",
    "                if write:\n",
    "\n",
    "                    species_right = line.rfind(\"]\")\n",
    "                    species_left = line.rfind(\"[\")\n",
    "                    species = line[species_left + 1: species_right]\n",
    "                    if \",\" in species:\n",
    "                        write = False\n",
    "                    else:\n",
    "                        species = species.split(\" \")\n",
    "                        species = \" \".join(species[0:2])\n",
    "                        \n",
    "                        if species not in seqs:\n",
    "                            seqs[species] = \"\"\n",
    "            # otherwise, concatenate the sequence to the species's \n",
    "            # mega-sequence\n",
    "            else:\n",
    "                if write:\n",
    "                    seqs[species] = seqs[species] + line.strip()\n",
    "                    \n",
    "                    \n",
    "    # output a list of the species found to have sequences available\n",
    "    with open(out_filename, \"w\") as out_file:\n",
    "        with open(species_filename, \"w\") as species_file:\n",
    "            for species in seqs:\n",
    "                # Shorten the name of the species to make PAUP happy\n",
    "                short_species = species.split(\" \")\n",
    "                short_species = [short_species[0][0] + \".\", short_species[1]]\n",
    "                short_species = \"\".join(short_species).strip()              \n",
    "                species_file.write(species + \",\\n\")\n",
    "                i = 0\n",
    "                out_file.write(\">\" + short_species + \"\\n\")\n",
    "                for char in seqs[species]:\n",
    "                    out_file.write(char)\n",
    "                    i += 1\n",
    "                    if i == 70:\n",
    "                        out_file.write(\"\\n\")\n",
    "                        i = 0\n",
    "                if i != 0:\n",
    "                    out_file.write(\"\\n\")\n",
    "    return (seqs.keys())"
   ]
  },
  {
   "cell_type": "markdown",
   "metadata": {},
   "source": [
    "# Fix FASTA files containing sequences for opsin"
   ]
  },
  {
   "cell_type": "code",
   "execution_count": 11,
   "metadata": {},
   "outputs": [],
   "source": [
    "deep_op = fix_ids(\"/mnt/c/Users/mayal/All/School/Spring2021/ECOL346/Project/Code/2_fetch_sequences/deep_shallow/deep/deep_opsin_prot.fa\", \"/mnt/c/Users/mayal/All/School/Spring2021/ECOL346/Project/Code/2_fetch_sequences/deep_shallow/deep/deep_opsin_prot_fixed_ids.fa\", \"/mnt/c/Users/mayal/All/School/Spring2021/ECOL346/Project/Code/2_fetch_sequences/deep_shallow/deep/deep_opsin_prot_species_list.csv\")\n",
    "deep_cry = fix_ids(\"/mnt/c/Users/mayal/All/School/Spring2021/ECOL346/Project/Code/2_fetch_sequences/deep_shallow/deep/deep_crystallin_prot.fa\", \"/mnt/c/Users/mayal/All/School/Spring2021/ECOL346/Project/Code/2_fetch_sequences/deep_shallow/deep/deep_crystallin_prot_fixed_ids.fa\", \"/mnt/c/Users/mayal/All/School/Spring2021/ECOL346/Project/Code/2_fetch_sequences/deep_shallow/deep/deep_crystallin_prot_species_list.csv\")"
   ]
  },
  {
   "cell_type": "markdown",
   "metadata": {},
   "source": [
    "# Fix FASTA files containing sequences for opsin and crystallin in files containing only shallow-water species"
   ]
  },
  {
   "cell_type": "code",
   "execution_count": 12,
   "metadata": {},
   "outputs": [],
   "source": [
    "shallow_op = fix_ids(\"/mnt/c/Users/mayal/All/School/Spring2021/ECOL346/Project/Code/2_fetch_sequences/deep_shallow/shallow/shallow_opsin_prot.fa\", \"/mnt/c/Users/mayal/All/School/Spring2021/ECOL346/Project/Code/2_fetch_sequences/deep_shallow/shallow/shallow_opsin_prot_fixed_ids.fa\", \"/mnt/c/Users/mayal/All/School/Spring2021/ECOL346/Project/Code/2_fetch_sequences/deep_shallow/shallow/shallow_opsin_prot_species_list.csv\")\n",
    "shallow_cry = fix_ids(\"/mnt/c/Users/mayal/All/School/Spring2021/ECOL346/Project/Code/2_fetch_sequences/deep_shallow/shallow/shallow_crystallin_prot.fa\", \"/mnt/c/Users/mayal/All/School/Spring2021/ECOL346/Project/Code/2_fetch_sequences/deep_shallow/shallow/shallow_crystallin_prot_fixed_ids.fa\", \"/mnt/c/Users/mayal/All/School/Spring2021/ECOL346/Project/Code/2_fetch_sequences/deep_shallow/shallow/shallow_crystallin_prot_species_list.csv\")"
   ]
  },
  {
   "cell_type": "markdown",
   "metadata": {},
   "source": [
    "# Fix FASTA files containing sequences for H+ ATPase, Sodium/Hydrogen exchanger, and Sodium/Potassium exchanger"
   ]
  },
  {
   "cell_type": "code",
   "execution_count": 13,
   "metadata": {},
   "outputs": [],
   "source": [
    "salt_hpatpase = fix_ids(\"/mnt/c/Users/mayal/All/School/Spring2021/ECOL346/Project/Code/2_fetch_sequences/salt_fresh/salt/salt_HpATPase_prot.fa\", \"/mnt/c/Users/mayal/All/School/Spring2021/ECOL346/Project/Code/2_fetch_sequences/salt_fresh/salt/salt_HpATPase_prot_fixed_ids.fa\", \"/mnt/c/Users/mayal/All/School/Spring2021/ECOL346/Project/Code/2_fetch_sequences/salt_fresh/salt/salt_HpATPase_prot_species_list.csv\")\n",
    "salt_exchange = fix_ids(\"/mnt/c/Users/mayal/All/School/Spring2021/ECOL346/Project/Code/2_fetch_sequences/salt_fresh/salt/salt_naHexchange_prot.fa\", \"/mnt/c/Users/mayal/All/School/Spring2021/ECOL346/Project/Code/2_fetch_sequences/salt_fresh/salt/salt_naHexchange_prot_fixed_ids.fa\", \"/mnt/c/Users/mayal/All/School/Spring2021/ECOL346/Project/Code/2_fetch_sequences/salt_fresh/salt/salt_naHexchange_prot_species_list.csv\")\n",
    "salt_nak = fix_ids(\"/mnt/c/Users/mayal/All/School/Spring2021/ECOL346/Project/Code/2_fetch_sequences/salt_fresh/salt/salt_nakATPase_prot.fa\", \"/mnt/c/Users/mayal/All/School/Spring2021/ECOL346/Project/Code/2_fetch_sequences/salt_fresh/salt/salt_nakATPase_prot_fixed_ids.fa\", \"/mnt/c/Users/mayal/All/School/Spring2021/ECOL346/Project/Code/2_fetch_sequences/salt_fresh/salt/salt_nakATPase_prot_species_list.csv\")"
   ]
  },
  {
   "cell_type": "markdown",
   "metadata": {},
   "source": [
    "# Fix FASTA files containing sequences for H+ ATPase, Sodium/Hydrogen exchanger, and Sodium/Potassium exchanger in files containing only freshwater species"
   ]
  },
  {
   "cell_type": "code",
   "execution_count": 14,
   "metadata": {},
   "outputs": [],
   "source": [
    "fresh_hpatpase = fix_ids(\"/mnt/c/Users/mayal/All/School/Spring2021/ECOL346/Project/Code/2_fetch_sequences/salt_fresh/fresh/fresh_HpATPase_prot.fa\", \"/mnt/c/Users/mayal/All/School/Spring2021/ECOL346/Project/Code/2_fetch_sequences/salt_fresh/fresh/fresh_HpATPase_prot_fixed_ids.fa\", \"/mnt/c/Users/mayal/All/School/Spring2021/ECOL346/Project/Code/2_fetch_sequences/salt_fresh/fresh/fresh_HpATPase_prot_species_list.csv\")\n",
    "fresh_exchange = fix_ids(\"/mnt/c/Users/mayal/All/School/Spring2021/ECOL346/Project/Code/2_fetch_sequences/salt_fresh/fresh/fresh_naHexchange_prot.fa\", \"/mnt/c/Users/mayal/All/School/Spring2021/ECOL346/Project/Code/2_fetch_sequences/salt_fresh/fresh/fresh_naHexchange_prot_fixed_ids.fa\", \"/mnt/c/Users/mayal/All/School/Spring2021/ECOL346/Project/Code/2_fetch_sequences/salt_fresh/fresh/fresh_naHexchange_prot_species_list.csv\")\n",
    "fresh_nak = fix_ids(\"/mnt/c/Users/mayal/All/School/Spring2021/ECOL346/Project/Code/2_fetch_sequences/salt_fresh/fresh/fresh_nakATPase_prot.fa\", \"/mnt/c/Users/mayal/All/School/Spring2021/ECOL346/Project/Code/2_fetch_sequences/salt_fresh/fresh/fresh_nakATPase_prot_fixed_ids.fa\", \"/mnt/c/Users/mayal/All/School/Spring2021/ECOL346/Project/Code/2_fetch_sequences/salt_fresh/fresh/fresh_nakATPase_prot_species_list.csv\")"
   ]
  },
  {
   "cell_type": "markdown",
   "metadata": {},
   "source": [
    "## I used the lists of species produced from the previous function as lists of fish species to pull cytochrome sequences for (fetch_all_prot.sh). However, there is no guarentee that all of the species I queried had cytochrome sequences available. Therefore, I can use my fix_ids function to return a list of species that had sequences available for both the protein of interest and cytochrome, and later filter out species that didn't have cytochrome sequences available from my list of sequences for the POI"
   ]
  },
  {
   "cell_type": "code",
   "execution_count": 10,
   "metadata": {},
   "outputs": [],
   "source": [
    "op_cyt = fix_ids(\"/mnt/c/Users/mayal/All/School/Spring2021/ECOL346/Project/Code/4_make_cytochrome_trees/all/opsin_v_cytochrome.fa\", \"/mnt/c/Users/mayal/All/School/Spring2021/ECOL346/Project/Code/4_make_cytochrome_trees/all/opsin_v_cytochrome_fixed_ids.fa\", \"/mnt/c/Users/mayal/All/School/Spring2021/ECOL346/Project/Code/2_fetch_sequences/deep_shallow/all/all_opsin_cytochrome_species_list.csv\")\n",
    "cry_cyt = fix_ids(\"/mnt/c/Users/mayal/All/School/Spring2021/ECOL346/Project/Code/4_make_cytochrome_trees/all/crystallin_v_cytochrome.fa\", \"/mnt/c/Users/mayal/All/School/Spring2021/ECOL346/Project/Code/4_make_cytochrome_trees/all/crystallin_v_cytochrome_fixed_ids.fa\", \"/mnt/c/Users/mayal/All/School/Spring2021/ECOL346/Project/Code/2_fetch_sequences/deep_shallow/all/all_crystallin_cytochrome_species_list.csv\")\n",
    "hpatpase_cyt = fix_ids(\"/mnt/c/Users/mayal/All/School/Spring2021/ECOL346/Project/Code/4_make_cytochrome_trees/all/HpATPase_v_cytochrome.fa\", \"/mnt/c/Users/mayal/All/School/Spring2021/ECOL346/Project/Code/4_make_cytochrome_trees/all/HpATPase_v_cytochrome_fixed_ids.fa\", \"/mnt/c/Users/mayal/All/School/Spring2021/ECOL346/Project/Code/2_fetch_sequences/deep_shallow/all/all_HpATPase_cytochrome_species_list.csv\")\n",
    "exchange_cyt = fix_ids(\"/mnt/c/Users/mayal/All/School/Spring2021/ECOL346/Project/Code/4_make_cytochrome_trees/all/naHexchange_v_cytochrome.fa\", \"/mnt/c/Users/mayal/All/School/Spring2021/ECOL346/Project/Code/4_make_cytochrome_trees/all/naHexchange_v_cytochrome_fixed_ids.fa\", \"/mnt/c/Users/mayal/All/School/Spring2021/ECOL346/Project/Code/2_fetch_sequences/deep_shallow/all/all_naHexchange_cytochrome_species_list.csv\")\n",
    "nak_cyt = fix_ids(\"/mnt/c/Users/mayal/All/School/Spring2021/ECOL346/Project/Code/4_make_cytochrome_trees/all/nakATPase_v_cytochrome.fa\", \"/mnt/c/Users/mayal/All/School/Spring2021/ECOL346/Project/Code/4_make_cytochrome_trees/all/nakATPase_v_cytochrome_fixed_ids.fa\", \"/mnt/c/Users/mayal/All/School/Spring2021/ECOL346/Project/Code/2_fetch_sequences/deep_shallow/all/all_nakATPase_cytochrome_species_list.csv\")"
   ]
  },
  {
   "cell_type": "code",
   "execution_count": 15,
   "metadata": {},
   "outputs": [],
   "source": [
    "\"\"\"\n",
    "This function takes in 2 sets of fish, and edits a fasta file to only include \n",
    "sequences from fish that are in both sets\n",
    "\"\"\"\n",
    "def exclude_diff(set1, set2, out_filename):\n",
    "    exclude_set = set()\n",
    "    # Read in fish from set 1\n",
    "    for species in set1:\n",
    "        if species not in set2:\n",
    "            species = species.split(\" \")\n",
    "            exclude_set.add(species[0][0] + \".\" + species[1])\n",
    "    # Read in fish from set 2\n",
    "    for species in set2:\n",
    "        if species not in set1:\n",
    "            species = species.split(\" \")\n",
    "            exclude_set.add(species[0][0] + \".\" + species[1])\n",
    "    # read in lines from the out-file to be altered\n",
    "    with open(out_filename, \"r\") as out_file:\n",
    "        lines = out_file.readlines()\n",
    "        \n",
    "    # overwrite the out-file, only printing sequences from fish \n",
    "    # that are in both set 1 and set 2\n",
    "    with open(out_filename, \"w\") as out_file:\n",
    "        write = False\n",
    "        for line in lines:\n",
    "            if line.startswith(\">\"):\n",
    "                write = line_in_set(line, exclude_set)\n",
    "            if write:\n",
    "                out_file.write(line)\n",
    "                \n",
    "\"\"\"\n",
    "This sequence returns whether or not one of the fish from a \n",
    "set of fish appears in a string.\n",
    "\"\"\"\n",
    "def line_in_set(a_line, a_set):\n",
    "    for fish in a_set:\n",
    "        if fish in a_line:\n",
    "            return False\n",
    "    return True"
   ]
  },
  {
   "cell_type": "markdown",
   "metadata": {},
   "source": [
    "# Exclude species that do not have sequences available for both the protein of interest and cytochrome from both our cytochrome FASTA files and our protein of interest FASTA files"
   ]
  },
  {
   "cell_type": "code",
   "execution_count": 18,
   "metadata": {},
   "outputs": [],
   "source": [
    "exclude_diff(deep_op, op_cyt, \"/mnt/c/Users/mayal/All/School/Spring2021/ECOL346/Project/Code/2_fetch_sequences/deep_shallow/deep/deep_opsin_prot_fixed_ids.fa\")\n",
    "exclude_diff(deep_op, op_cyt, \"/mnt/c/Users/mayal/All/School/Spring2021/ECOL346/Project/Code/4_make_cytochrome_trees/deep_shallow/deep/deep_opsin_v_cytochrome_fixed_ids.fa\")\n",
    "\n",
    "exclude_diff(deep_cry, cry_cyt, \"/mnt/c/Users/mayal/All/School/Spring2021/ECOL346/Project/Code/2_fetch_sequences/deep_shallow/deep/deep_crystallin_prot_fixed_ids.fa\")\n",
    "exclude_diff(deep_cry, cry_cyt, \"/mnt/c/Users/mayal/All/School/Spring2021/ECOL346/Project/Code/4_make_cytochrome_trees/deep_shallow/deep/deep_crystallin_v_cytochrome_fixed_ids.fa\")\n",
    "\n",
    "exclude_diff(shallow_op, op_cyt, \"/mnt/c/Users/mayal/All/School/Spring2021/ECOL346/Project/Code/2_fetch_sequences/deep_shallow/shallow/shallow_opsin_prot_fixed_ids.fa\")\n",
    "exclude_diff(shallow_op, op_cyt, \"/mnt/c/Users/mayal/All/School/Spring2021/ECOL346/Project/Code/4_make_cytochrome_trees/deep_shallow/shallow/shallow_opsin_v_cytochrome_fixed_ids.fa\")\n",
    "\n",
    "exclude_diff(shallow_cry, cry_cyt, \"/mnt/c/Users/mayal/All/School/Spring2021/ECOL346/Project/Code/2_fetch_sequences/deep_shallow/shallow/shallow_crystallin_prot_fixed_ids.fa\")\n",
    "exclude_diff(shallow_cry, cry_cyt, \"/mnt/c/Users/mayal/All/School/Spring2021/ECOL346/Project/Code/4_make_cytochrome_trees/deep_shallow/shallow/shallow_crystallin_v_cytochrome_fixed_ids.fa\")\n",
    "\n",
    "exclude_diff(salt_hpatpase, hpatpase_cyt, \"/mnt/c/Users/mayal/All/School/Spring2021/ECOL346/Project/Code/2_fetch_sequences/salt_fresh/salt/salt_HpATPase_prot_fixed_ids.fa\")\n",
    "exclude_diff(salt_hpatpase, hpatpase_cyt, \"/mnt/c/Users/mayal/All/School/Spring2021/ECOL346/Project/Code/4_make_cytochrome_trees/salt_fresh/salt/salt_HpATPase_v_cytochrome_fixed_ids.fa\")\n",
    "\n",
    "exclude_diff(salt_exchange, exchange_cyt, \"/mnt/c/Users/mayal/All/School/Spring2021/ECOL346/Project/Code/2_fetch_sequences/salt_fresh/salt/salt_naHexchange_prot_fixed_ids.fa\")\n",
    "exclude_diff(salt_exchange, exchange_cyt, \"/mnt/c/Users/mayal/All/School/Spring2021/ECOL346/Project/Code/4_make_cytochrome_trees/salt_fresh/salt/salt_naHexchange_v_cytochrome_fixed_ids.fa\")\n",
    "\n",
    "exclude_diff(salt_nak, nak_cyt, \"/mnt/c/Users/mayal/All/School/Spring2021/ECOL346/Project/Code/2_fetch_sequences/salt_fresh/salt/salt_nakATPase_prot_fixed_ids.fa\")\n",
    "exclude_diff(salt_nak, nak_cyt, \"/mnt/c/Users/mayal/All/School/Spring2021/ECOL346/Project/Code/4_make_cytochrome_trees/salt_fresh/salt/salt_nakATPase_v_cytochrome_fixed_ids.fa\")\n",
    "\n",
    "exclude_diff(fresh_hpatpase, hpatpase_cyt, \"/mnt/c/Users/mayal/All/School/Spring2021/ECOL346/Project/Code/2_fetch_sequences/salt_fresh/fresh/fresh_HpATPase_prot_fixed_ids.fa\")\n",
    "exclude_diff(fresh_hpatpase, hpatpase_cyt, \"/mnt/c/Users/mayal/All/School/Spring2021/ECOL346/Project/Code/4_make_cytochrome_trees/salt_fresh/fresh/fresh_HpATPase_v_cytochrome_fixed_ids.fa\")\n",
    "\n",
    "exclude_diff(fresh_exchange, exchange_cyt, \"/mnt/c/Users/mayal/All/School/Spring2021/ECOL346/Project/Code/2_fetch_sequences/salt_fresh/fresh/fresh_naHexchange_prot_fixed_ids.fa\")\n",
    "exclude_diff(fresh_exchange, exchange_cyt, \"/mnt/c/Users/mayal/All/School/Spring2021/ECOL346/Project/Code/4_make_cytochrome_trees/salt_fresh/fresh/fresh_naHexchange_v_cytochrome_fixed_ids.fa\")\n",
    "\n",
    "exclude_diff(fresh_nak, nak_cyt, \"/mnt/c/Users/mayal/All/School/Spring2021/ECOL346/Project/Code/2_fetch_sequences/salt_fresh/fresh/fresh_nakATPase_prot_fixed_ids.fa\")\n",
    "exclude_diff(fresh_nak, nak_cyt, \"/mnt/c/Users/mayal/All/School/Spring2021/ECOL346/Project/Code/4_make_cytochrome_trees/salt_fresh/fresh/fresh_nakATPase_v_cytochrome_fixed_ids.fa\")"
   ]
  }
 ],
 "metadata": {
  "kernelspec": {
   "display_name": "Python 3",
   "language": "python",
   "name": "python3"
  },
  "language_info": {
   "codemirror_mode": {
    "name": "ipython",
    "version": 3
   },
   "file_extension": ".py",
   "mimetype": "text/x-python",
   "name": "python",
   "nbconvert_exporter": "python",
   "pygments_lexer": "ipython3",
   "version": "3.6.9"
  }
 },
 "nbformat": 4,
 "nbformat_minor": 4
}
